{
 "cells": [
  {
   "cell_type": "code",
   "execution_count": 1,
   "metadata": {},
   "outputs": [],
   "source": [
    "import pandas as pd"
   ]
  },
  {
   "cell_type": "code",
   "execution_count": 2,
   "metadata": {},
   "outputs": [],
   "source": [
    "df = pd.read_csv('annotations/Autonomous_Driving_Question_Answering_Annotation_Training - REVISED_April_27.csv')"
   ]
  },
  {
   "cell_type": "code",
   "execution_count": 5,
   "metadata": {},
   "outputs": [
    {
     "data": {
      "text/html": [
       "<div>\n",
       "<style scoped>\n",
       "    .dataframe tbody tr th:only-of-type {\n",
       "        vertical-align: middle;\n",
       "    }\n",
       "\n",
       "    .dataframe tbody tr th {\n",
       "        vertical-align: top;\n",
       "    }\n",
       "\n",
       "    .dataframe thead th {\n",
       "        text-align: right;\n",
       "    }\n",
       "</style>\n",
       "<table border=\"1\" class=\"dataframe\">\n",
       "  <thead>\n",
       "    <tr style=\"text-align: right;\">\n",
       "      <th></th>\n",
       "      <th>Question_ID</th>\n",
       "      <th>Question</th>\n",
       "      <th>Type</th>\n",
       "      <th>Answer</th>\n",
       "      <th>Path</th>\n",
       "    </tr>\n",
       "  </thead>\n",
       "  <tbody>\n",
       "    <tr>\n",
       "      <th>0</th>\n",
       "      <td>1</td>\n",
       "      <td>Why is the car going straight?</td>\n",
       "      <td>Causal</td>\n",
       "      <td>Because the road is clear.</td>\n",
       "      <td>/home/shahin/Documents/VQA_AD/Selected_segment...</td>\n",
       "    </tr>\n",
       "    <tr>\n",
       "      <th>1</th>\n",
       "      <td>2</td>\n",
       "      <td>Why is the car going straight?</td>\n",
       "      <td>Causal</td>\n",
       "      <td>Because the road is clear.</td>\n",
       "      <td>/home/shahin/Documents/VQA_AD/Selected_segment...</td>\n",
       "    </tr>\n",
       "    <tr>\n",
       "      <th>2</th>\n",
       "      <td>3</td>\n",
       "      <td>Why is the car going straight?</td>\n",
       "      <td>Causal</td>\n",
       "      <td>Because the road is clear.</td>\n",
       "      <td>/home/shahin/Documents/VQA_AD/Selected_segment...</td>\n",
       "    </tr>\n",
       "    <tr>\n",
       "      <th>3</th>\n",
       "      <td>4</td>\n",
       "      <td>Why is the car going straight?</td>\n",
       "      <td>Causal</td>\n",
       "      <td>Because the road is clear.</td>\n",
       "      <td>/home/shahin/Documents/VQA_AD/Selected_segment...</td>\n",
       "    </tr>\n",
       "    <tr>\n",
       "      <th>4</th>\n",
       "      <td>5</td>\n",
       "      <td>Why is the car going straight?</td>\n",
       "      <td>Causal</td>\n",
       "      <td>Because the road is clear.</td>\n",
       "      <td>/home/shahin/Documents/VQA_AD/Selected_segment...</td>\n",
       "    </tr>\n",
       "  </tbody>\n",
       "</table>\n",
       "</div>"
      ],
      "text/plain": [
       "   Question_ID                        Question    Type  \\\n",
       "0            1  Why is the car going straight?  Causal   \n",
       "1            2  Why is the car going straight?  Causal   \n",
       "2            3  Why is the car going straight?  Causal   \n",
       "3            4  Why is the car going straight?  Causal   \n",
       "4            5  Why is the car going straight?  Causal   \n",
       "\n",
       "                       Answer  \\\n",
       "0  Because the road is clear.   \n",
       "1  Because the road is clear.   \n",
       "2  Because the road is clear.   \n",
       "3  Because the road is clear.   \n",
       "4  Because the road is clear.   \n",
       "\n",
       "                                                Path  \n",
       "0  /home/shahin/Documents/VQA_AD/Selected_segment...  \n",
       "1  /home/shahin/Documents/VQA_AD/Selected_segment...  \n",
       "2  /home/shahin/Documents/VQA_AD/Selected_segment...  \n",
       "3  /home/shahin/Documents/VQA_AD/Selected_segment...  \n",
       "4  /home/shahin/Documents/VQA_AD/Selected_segment...  "
      ]
     },
     "execution_count": 5,
     "metadata": {},
     "output_type": "execute_result"
    }
   ],
   "source": [
    "df.head()"
   ]
  },
  {
   "cell_type": "code",
   "execution_count": 6,
   "metadata": {},
   "outputs": [],
   "source": [
    "questions_list = df['Question'].values"
   ]
  },
  {
   "cell_type": "code",
   "execution_count": 7,
   "metadata": {},
   "outputs": [],
   "source": [
    "question_lst = []\n",
    "for x in questions_list:\n",
    "    for tokens in x:\n",
    "        question_lst.append(tokens)\n",
    "question_list = question_lst"
   ]
  },
  {
   "cell_type": "code",
   "execution_count": 8,
   "metadata": {},
   "outputs": [
    {
     "name": "stdout",
     "output_type": "stream",
     "text": [
      "Size of question vocab  21\n",
      "Sample  ['c', ' ', 'a', 'o', 'e', 'g', 'n', 's', 'l', 'i', 't', '?', 'u', 'W', 'r', 'T', 'j', '-', 'f', 'h', 'y']\n"
     ]
    }
   ],
   "source": [
    "question_vocab = list(set(question_list))\n",
    "print(\"Size of question vocab \", len(question_vocab))\n",
    "print(\"Sample \", question_vocab)"
   ]
  },
  {
   "cell_type": "code",
   "execution_count": 9,
   "metadata": {},
   "outputs": [
    {
     "name": "stdout",
     "output_type": "stream",
     "text": [
      "Size of answers vocab  22\n",
      "Sample  ['Because', 'on', 'left', 'is', 'clear.', 'there', 'obstacle', 'performed', 'turning', 'side', 'can', 'right', 'bending', 'no', 'the', 'be', 'to', 'road', 'right.', 'safely.', 'left.', 'and']\n"
     ]
    }
   ],
   "source": [
    "answers = df['Answer'].values\n",
    "answers_lst = []\n",
    "for x in answers:\n",
    "    for xx in x.split():\n",
    "        answers_lst.append(xx)\n",
    "answers_list = answers_lst\n",
    "answers_vocab = list(set(answers_list))\n",
    "print(\"Size of answers vocab \", len(answers_vocab))\n",
    "print(\"Sample \", answers_vocab)"
   ]
  },
  {
   "cell_type": "code",
   "execution_count": 11,
   "metadata": {},
   "outputs": [],
   "source": [
    "data = []\n",
    "for i in range(len(df)):\n",
    "    row = df.iloc[i]\n",
    "    tmp_dict = {}\n",
    "    img_name = row['Path'].split('/')[len(row['Path'].split('/'))-1]\n",
    "    tmp_dict['image_name'] = img_name\n",
    "    tmp_dict['image_path'] = row['Path']\n",
    "    tmp_dict['question_id'] = row['Question_ID']\n",
    "    tmp_dict['question_str'] = row['Question']\n",
    "    qst_tokens = row['Question'].split()\n",
    "    qst_tokens = [x.lower() for x in qst_tokens]\n",
    "    tmp_dict['question_tokens'] = qst_tokens\n",
    "    tmp_dict['all_answers'] = [row['Answer'], row['Answer'], row['Answer'], row['Answer'], row['Answer'], row['Answer'], row['Answer']]\n",
    "    tmp_dict['valid_answers'] = [row['Answer'], row['Answer'], row['Answer'], row['Answer'], row['Answer'], row['Answer'], row['Answer']]\n",
    "    data.append(tmp_dict)"
   ]
  },
  {
   "cell_type": "code",
   "execution_count": 12,
   "metadata": {},
   "outputs": [
    {
     "data": {
      "text/plain": [
       "{'image_name': 'Go_straight_seg1_frame2.jpg',\n",
       " 'image_path': '/home/shahin/Documents/VQA_AD/Selected_segments_frames/Go_straight_seg1_frame2.jpg',\n",
       " 'question_id': 2,\n",
       " 'question_str': 'Why is the car going straight?',\n",
       " 'question_tokens': ['why', 'is', 'the', 'car', 'going', 'straight?'],\n",
       " 'all_answers': ['Because the road is clear.',\n",
       "  'Because the road is clear.',\n",
       "  'Because the road is clear.',\n",
       "  'Because the road is clear.',\n",
       "  'Because the road is clear.',\n",
       "  'Because the road is clear.',\n",
       "  'Because the road is clear.'],\n",
       " 'valid_answers': ['Because the road is clear.',\n",
       "  'Because the road is clear.',\n",
       "  'Because the road is clear.',\n",
       "  'Because the road is clear.',\n",
       "  'Because the road is clear.',\n",
       "  'Because the road is clear.',\n",
       "  'Because the road is clear.']}"
      ]
     },
     "execution_count": 12,
     "metadata": {},
     "output_type": "execute_result"
    }
   ],
   "source": [
    "data[1]"
   ]
  },
  {
   "cell_type": "code",
   "execution_count": 23,
   "metadata": {},
   "outputs": [],
   "source": [
    "import numpy as np\n",
    "np_load_old = np.load\n",
    "\n",
    "# modify the default parameters of np.load\n",
    "np.load = lambda *a,**k: np_load_old(*a, allow_pickle=True, **k)\n",
    "np.save(\"COCO-2015/datasets/train_drive_April_28.npy\", np.array(data))"
   ]
  },
  {
   "cell_type": "code",
   "execution_count": null,
   "metadata": {},
   "outputs": [],
   "source": []
  }
 ],
 "metadata": {
  "kernelspec": {
   "display_name": "videoqa",
   "language": "python",
   "name": "python3"
  },
  "language_info": {
   "codemirror_mode": {
    "name": "ipython",
    "version": 3
   },
   "file_extension": ".py",
   "mimetype": "text/x-python",
   "name": "python",
   "nbconvert_exporter": "python",
   "pygments_lexer": "ipython3",
   "version": "3.6.13"
  },
  "orig_nbformat": 4,
  "vscode": {
   "interpreter": {
    "hash": "b6b0e9ae300e93b4feb3afd8142be7999ae65ede1dda2441330c407f00ece528"
   }
  }
 },
 "nbformat": 4,
 "nbformat_minor": 2
}
